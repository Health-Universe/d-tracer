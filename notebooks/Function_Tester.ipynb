{
 "cells": [
  {
   "cell_type": "code",
   "execution_count": 118,
   "id": "a16ebbc1",
   "metadata": {},
   "outputs": [],
   "source": [
    "import pandas as pd\n",
    "import numpy as np\n",
    "import time\n",
    "import sys\n",
    "\n",
    "data = '../data/test_data/2022_04_22_NEG_RSL3DAAvsCtrl_test_input.csv'\n",
    "D = 1.0063\n",
    "\n",
    "def upload(file, limit=None):\n",
    "    df = pd.read_csv(file, header=2, nrows=limit)\n",
    "    return df\n",
    "\n",
    "df_raw = upload(data)\n",
    "# df_raw"
   ]
  },
  {
   "cell_type": "code",
   "execution_count": 119,
   "id": "7a7d95be",
   "metadata": {},
   "outputs": [],
   "source": [
    "def format(df, samples=None):\n",
    "    col_main = ['Compound',\n",
    "                'm/z',\n",
    "                'Retention time (min)',\n",
    "                'CCS (angstrom^2)']\n",
    "    col = df.columns.tolist() #create a list of all column names\n",
    "    if samples is not None:\n",
    "        stop = 16 + samples\n",
    "    else:\n",
    "        stop = col.index([col for col in df.columns if '.1' in col][0]) #index of duplicate columns we don't need\n",
    "    intensities = col[16:stop] #intensity columns we wish to keep\n",
    "    \n",
    "    df_keep = df[col_main + intensities].sort_values(by=[\"Compound\"], ascending=False).reset_index(drop=True)\n",
    "    return df_keep\n",
    "\n",
    "df_keep = format(df_raw)\n",
    "# df_keep"
   ]
  },
  {
   "cell_type": "code",
   "execution_count": 120,
   "id": "132eefe5",
   "metadata": {},
   "outputs": [
    {
     "name": "stdout",
     "output_type": "stream",
     "text": [
      "[#####################]\n",
      "20 pairs found | Run time =  1.9568278789520264\n"
     ]
    }
   ],
   "source": [
    "def pick_pairs(df, a, b):\n",
    "    '''Returns index pairs of compounds with same RT and CCS'''\n",
    "\n",
    "    '''Define lists and tolerances of each column to compare with itself'''\n",
    "    mz = np.array(df['m/z'])\n",
    "    mz_tol = 1e-4\n",
    "    rt = np.array(df['Retention time (min)'])\n",
    "    rt_tol = 1e-3\n",
    "    ccs = np.array(df['CCS (angstrom^2)'])\n",
    "    ccs_tol = 1e-2\n",
    "    D = 1.0063\n",
    "    mass_adjust = D*(b - a)\n",
    "\n",
    "    toolbar_width = 80\n",
    "\n",
    "    # setup toolbar\n",
    "    start = time.time()\n",
    "    sys.stdout.write(\"[%s]\" % (\"#\"))\n",
    "    sys.stdout.flush()\n",
    "    sys.stdout.write(\"\\b\" * (toolbar_width+1)) # return to start of line, after '['\n",
    "\n",
    "    '''Initialize a list for indexes to be held for each pair of matched values'''\n",
    "    idxs = []\n",
    "    '''Create nested for loop to compare i with j in each column'''\n",
    "    for i in range(len(df)):\n",
    "        for j in range(i+1, len(df)):\n",
    "\n",
    "            \"\"\"Define checks for each column\"\"\"\n",
    "            check_rt = np.isclose(rt[i], rt[j], rt_tol)\n",
    "            if check_rt == True: pass\n",
    "            else: continue\n",
    "            \n",
    "            check_mz = np.isclose(mz[i], mz[j] + mass_adjust, mz_tol)\n",
    "            if check_mz == True: pass\n",
    "            else: continue\n",
    "\n",
    "            check_ccs = np.isclose(ccs[i], ccs[j], ccs_tol)\n",
    "            if check_ccs == True: pass\n",
    "            else: continue\n",
    "\n",
    "            idxs.append([i,j])\n",
    "\n",
    "            # update the bar\n",
    "            sys.stdout.write(\"#\")\n",
    "            sys.stdout.flush()\n",
    "\n",
    "    idx_pairs = np.array(idxs)\n",
    "    flat_pairs = idx_pairs.flatten().tolist()\n",
    "    mass_pairs = np.array(df['m/z'].iloc[flat_pairs]).reshape(len(idx_pairs), 2)\n",
    "\n",
    "    sys.stdout.write(\"]\\n\") # this ends the progress bar\n",
    "    end = time.time()\n",
    "    print(mass_pairs.shape[0], \"pairs found | Run time = \", end-start)\n",
    "    return idx_pairs, mass_pairs\n",
    "\n",
    "pairs, masses = pick_pairs(df_keep, 5, 11)\n",
    "# masses"
   ]
  },
  {
   "cell_type": "code",
   "execution_count": 127,
   "id": "62c9aaaf",
   "metadata": {},
   "outputs": [
    {
     "data": {
      "text/plain": [
       "array([[978.6213752, 972.5837655],\n",
       "       [976.6035114, 970.5633508],\n",
       "       [949.6497534, 943.6137902],\n",
       "       [924.6491739, 918.6112064],\n",
       "       [922.6331353, 916.5968354],\n",
       "       [905.6895514, 899.652542 ],\n",
       "       [896.759428 , 890.7209797],\n",
       "       [896.6183362, 890.5814109],\n",
       "       [894.6029557, 888.5667271],\n",
       "       [894.6027743, 888.5646863],\n",
       "       [882.6029416, 876.5672706],\n",
       "       [877.6611081, 871.6239716],\n",
       "       [874.6422771, 868.6061886],\n",
       "       [861.6305583, 855.593193 ],\n",
       "       [839.640121 , 833.6022407],\n",
       "       [808.598483 , 802.5765976],\n",
       "       [805.639452 , 799.6012036],\n",
       "       [803.6240684, 797.586861 ],\n",
       "       [777.6085929, 771.5711204],\n",
       "       [761.6128061, 755.5739202]])"
      ]
     },
     "execution_count": 127,
     "metadata": {},
     "output_type": "execute_result"
    }
   ],
   "source": [
    "data2 = '../data/test_data/2022_04_22_NEG_RSL3DAAvsCtrl_CSV_pairs_test_output.csv'\n",
    "true_data = pd.read_csv(data2)\n",
    "true_mz = np.array(true_data['m/z']).reshape(int(len(true_data)/2), 2)\n",
    "true_mz"
   ]
  },
  {
   "cell_type": "code",
   "execution_count": 122,
   "id": "f398f6d1",
   "metadata": {},
   "outputs": [
    {
     "name": "stdout",
     "output_type": "stream",
     "text": [
      "True Length:  20 Masses Length:  20\n",
      "[True, True, True, True, True, True, True, True, True, True, True, True, True, True, True, True, True, True, True, True]\n",
      "100.0 %\n",
      "Pairs match:  True\n"
     ]
    }
   ],
   "source": [
    "\"\"\"Test for comparing pairs\"\"\"\n",
    "import unittest\n",
    "\n",
    "print(\"True Length: \", len(true_mz), \"Masses Length: \", len(masses))\n",
    "\n",
    "l1 = []\n",
    "for tpair in true_mz:\n",
    "    for pair in masses:\n",
    "        l2 = []\n",
    "        res = np.isclose(pair, tpair,rtol=1e-5)\n",
    "        l2.append(res)\n",
    "        if np.any(l2):\n",
    "            break\n",
    "        else:\n",
    "            continue\n",
    "    l1.append(np.any(l2))\n",
    "print(l1)\n",
    "print(np.count_nonzero(l1)/len(true_mz)*100, \"%\")\n",
    "print(\"Pairs match: \", np.all(l1))"
   ]
  },
  {
   "cell_type": "code",
   "execution_count": 123,
   "id": "09586c65",
   "metadata": {},
   "outputs": [
    {
     "name": "stderr",
     "output_type": "stream",
     "text": [
      "E\n",
      "======================================================================\n",
      "ERROR: test_pairs (__main__.UnitTests)\n",
      "----------------------------------------------------------------------\n",
      "Traceback (most recent call last):\n",
      "  File \"/tmp/ipykernel_7161/3586644625.py\", line 5, in test_pairs\n",
      "    for pair in compounds:\n",
      "NameError: name 'compounds' is not defined\n",
      "\n",
      "----------------------------------------------------------------------\n",
      "Ran 1 test in 0.004s\n",
      "\n",
      "FAILED (errors=1)\n"
     ]
    }
   ],
   "source": [
    "# Define a class in which the tests will run\n",
    "class UnitTests(unittest.TestCase):\n",
    "    def test_pairs(self):\n",
    "        l1 = []\n",
    "        for pair in compounds:\n",
    "            for tpair in true_pairs:\n",
    "                res = np.any(Counter(pair)==Counter(tpair))\n",
    "                if res == True: \n",
    "                    l1.append(res)\n",
    "                    break\n",
    "                elif tpair == true_pairs[-1]:\n",
    "                    l1.append(res)\n",
    "        self.assertNotIn(False, l1)\n",
    "\n",
    "suite = unittest.TestLoader().loadTestsFromTestCase(UnitTests)\n",
    "_ = unittest.TextTestRunner().run(suite)"
   ]
  },
  {
   "cell_type": "code",
   "execution_count": 124,
   "id": "4c553240",
   "metadata": {},
   "outputs": [],
   "source": [
    "# df_pairs = df_keep.iloc[pairs.flatten()]\n",
    "# df_pairs.head()"
   ]
  },
  {
   "cell_type": "markdown",
   "id": "ccc06f14",
   "metadata": {},
   "source": [
    "### fcn to adjust masses of each pair"
   ]
  },
  {
   "cell_type": "code",
   "execution_count": 125,
   "id": "43cdc167",
   "metadata": {},
   "outputs": [],
   "source": [
    "def mass_adj(pairs, df, a, b):\n",
    "    '''Adjusts masses of given dataframe and list of pairs. Pairs must be together, with higher mass first. x is the lower value, y is the higher value.'''\n",
    "    \n",
    "    df_pairs = df.iloc[pairs.flatten()]\n",
    "    masses = np.array(df_pairs[\"m/z\"]).reshape((len(pairs), 2))\n",
    "    masses[:, 0] -= b\n",
    "    masses[:, 1] -= a\n",
    "\n",
    "    df_pairs.insert(2, \"m/z_adj\", masses.flatten().tolist())\n",
    "\n",
    "    return df_pairs\n",
    "\n",
    "df_adj = mass_adj(pairs, df_keep, 5, 11)\n",
    "# df_adj"
   ]
  },
  {
   "cell_type": "code",
   "execution_count": 126,
   "id": "29dfb12f",
   "metadata": {},
   "outputs": [
    {
     "name": "stdout",
     "output_type": "stream",
     "text": [
      "Dataset(\n",
      "\tcsv=\"<_io.TextIOWrapper name='../data/trim.csv' mode='r' encoding='UTF-8'>\",\n",
      "\tesi_mode=\"neg\",\n",
      "\tsamples=8,\n",
      "\tfeatures=40,\n",
      "\tidentified=40,\n",
      "\tnormalized=False,\n",
      "\trt_calibrated=False,\n",
      "\text_var=False,\n",
      "\tgroup_indices=None,\n",
      "\tstats={}\n",
      ")\n"
     ]
    },
    {
     "ename": "ModuleNotFoundError",
     "evalue": "No module named 'xlsxwriter'",
     "output_type": "error",
     "traceback": [
      "\u001b[0;31m---------------------------------------------------------------------------\u001b[0m",
      "\u001b[0;31mModuleNotFoundError\u001b[0m                       Traceback (most recent call last)",
      "Cell \u001b[0;32mIn [126], line 32\u001b[0m\n\u001b[1;32m     30\u001b[0m add_feature_ids(dset, tol, level\u001b[39m=\u001b[39m\u001b[39m'\u001b[39m\u001b[39many\u001b[39m\u001b[39m'\u001b[39m)\n\u001b[1;32m     31\u001b[0m \u001b[39mprint\u001b[39m(dset)\n\u001b[0;32m---> 32\u001b[0m dset\u001b[39m.\u001b[39;49mexport_xlsx(\u001b[39m\"\u001b[39;49m\u001b[39mouptut.xlsx\u001b[39;49m\u001b[39m\"\u001b[39;49m)\n",
      "File \u001b[0;32m~/miniconda3/lib/python3.9/site-packages/lipydomics/data.py:313\u001b[0m, in \u001b[0;36mDataset.export_xlsx\u001b[0;34m(self, xlsx_path)\u001b[0m\n\u001b[1;32m    311\u001b[0m int_df \u001b[39m=\u001b[39m DataFrame(\u001b[39mself\u001b[39m\u001b[39m.\u001b[39mintensities)\n\u001b[1;32m    312\u001b[0m df \u001b[39m=\u001b[39m concat([label_df, int_df], axis\u001b[39m=\u001b[39m\u001b[39m1\u001b[39m, ignore_index\u001b[39m=\u001b[39m\u001b[39mTrue\u001b[39;00m, sort\u001b[39m=\u001b[39m\u001b[39mFalse\u001b[39;00m)\n\u001b[0;32m--> 313\u001b[0m writer \u001b[39m=\u001b[39m ExcelWriter(xlsx_path, engine\u001b[39m=\u001b[39;49m\u001b[39m'\u001b[39;49m\u001b[39mxlsxwriter\u001b[39;49m\u001b[39m'\u001b[39;49m)\n\u001b[1;32m    314\u001b[0m new_df \u001b[39m=\u001b[39m df\n\u001b[1;32m    315\u001b[0m columns \u001b[39m=\u001b[39m [\u001b[39m'\u001b[39m\u001b[39m'\u001b[39m \u001b[39mfor\u001b[39;00m x \u001b[39min\u001b[39;00m df\u001b[39m.\u001b[39mcolumns\u001b[39m.\u001b[39mvalues]\n",
      "File \u001b[0;32m~/miniconda3/lib/python3.9/site-packages/pandas/io/excel/_xlsxwriter.py:184\u001b[0m, in \u001b[0;36mXlsxWriter.__init__\u001b[0;34m(self, path, engine, date_format, datetime_format, mode, storage_options, if_sheet_exists, engine_kwargs, **kwargs)\u001b[0m\n\u001b[1;32m    171\u001b[0m \u001b[39mdef\u001b[39;00m \u001b[39m__init__\u001b[39m(\n\u001b[1;32m    172\u001b[0m     \u001b[39mself\u001b[39m,\n\u001b[1;32m    173\u001b[0m     path,\n\u001b[0;32m   (...)\u001b[0m\n\u001b[1;32m    182\u001b[0m ):\n\u001b[1;32m    183\u001b[0m     \u001b[39m# Use the xlsxwriter module as the Excel writer.\u001b[39;00m\n\u001b[0;32m--> 184\u001b[0m     \u001b[39mfrom\u001b[39;00m \u001b[39mxlsxwriter\u001b[39;00m \u001b[39mimport\u001b[39;00m Workbook\n\u001b[1;32m    186\u001b[0m     engine_kwargs \u001b[39m=\u001b[39m combine_kwargs(engine_kwargs, kwargs)\n\u001b[1;32m    188\u001b[0m     \u001b[39mif\u001b[39;00m mode \u001b[39m==\u001b[39m \u001b[39m\"\u001b[39m\u001b[39ma\u001b[39m\u001b[39m\"\u001b[39m:\n",
      "\u001b[0;31mModuleNotFoundError\u001b[0m: No module named 'xlsxwriter'"
     ]
    }
   ],
   "source": [
    "from lipydomics.data import Dataset\n",
    "from lipydomics.identification import add_feature_ids\n",
    "# from tempfile import TemporaryFile\n",
    "\n",
    "\n",
    "def lipid_id(input, output_name): \n",
    "    \"\"\"identifies mass adjusted lipids and exports .xlsx to path specified\"\"\"\n",
    "    # full = pd.read_csv(input) # this line isn't necessary if we feed in a dataframe\n",
    "    trim = input.drop(columns=['Compound', 'm/z'])\n",
    "    trim.to_csv('../data/trim.csv', index=False)\n",
    "    data = open('../data/trim.csv')\n",
    "    # need to change this to save to a temp directory\n",
    "    dset = Dataset(data, esi_mode='neg')\n",
    "    mz_tol = 0.03\n",
    "    rt_tol = 0.3\n",
    "    ccs_tol = 3.0\n",
    "    tol = [mz_tol, rt_tol, ccs_tol]\n",
    "    add_feature_ids(dset, tol, level='any')\n",
    "    dset.export_xlsx(output_name)\n",
    "    print('Identification Complete!')\n",
    "    return output_name\n",
    "\n",
    "# lipid_id(df_adj, \"output\")\n",
    "input = df_adj\n",
    "trim = input.drop(columns=['Compound', 'm/z'])\n",
    "trim.to_csv('../data/trim.csv', index=False)\n",
    "data = open('../data/trim.csv')\n",
    "dset = Dataset(data, esi_mode='neg')\n",
    "tol = [.03, .3, 3]\n",
    "add_feature_ids(dset, tol, level='any')\n",
    "print(dset)\n",
    "dset.export_xlsx(\"ouptut.xlsx\")"
   ]
  },
  {
   "cell_type": "code",
   "execution_count": null,
   "id": "86374b67",
   "metadata": {},
   "outputs": [],
   "source": []
  }
 ],
 "metadata": {
  "kernelspec": {
   "display_name": "Python 3.9.12 ('base')",
   "language": "python",
   "name": "python3"
  },
  "language_info": {
   "codemirror_mode": {
    "name": "ipython",
    "version": 3
   },
   "file_extension": ".py",
   "mimetype": "text/x-python",
   "name": "python",
   "nbconvert_exporter": "python",
   "pygments_lexer": "ipython3",
   "version": "3.9.12"
  },
  "vscode": {
   "interpreter": {
    "hash": "69627ec5890e0b54de2feb78db75d268619931803e79abb516238e9970b9c367"
   }
  }
 },
 "nbformat": 4,
 "nbformat_minor": 5
}
