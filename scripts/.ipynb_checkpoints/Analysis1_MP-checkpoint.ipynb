{
 "cells": [
  {
   "cell_type": "code",
   "execution_count": 2,
   "metadata": {
    "id": "utzl_LpRJAG9"
   },
   "outputs": [],
   "source": [
    "import numpy as np\n",
    "import pandas as pd"
   ]
  },
  {
   "cell_type": "code",
   "execution_count": 3,
   "metadata": {
    "id": "1eehE9AoJafO"
   },
   "outputs": [],
   "source": [
    "data = pd.read_csv('../data/2022_07_13_WTvsKO_daaRSL3_pval_subset.csv')"
   ]
  },
  {
   "cell_type": "code",
   "execution_count": 4,
   "metadata": {
    "colab": {
     "base_uri": "https://localhost:8080/",
     "height": 574
    },
    "id": "lhRXGrwJK6Oh",
    "outputId": "cd1858b9-d663-4d28-b1b9-684fcaee30e6"
   },
   "outputs": [
    {
     "data": {
      "text/html": [
       "<div>\n",
       "<style scoped>\n",
       "    .dataframe tbody tr th:only-of-type {\n",
       "        vertical-align: middle;\n",
       "    }\n",
       "\n",
       "    .dataframe tbody tr th {\n",
       "        vertical-align: top;\n",
       "    }\n",
       "\n",
       "    .dataframe thead th {\n",
       "        text-align: right;\n",
       "    }\n",
       "</style>\n",
       "<table border=\"1\" class=\"dataframe\">\n",
       "  <thead>\n",
       "    <tr style=\"text-align: right;\">\n",
       "      <th></th>\n",
       "      <th>Compound</th>\n",
       "      <th>m/z</th>\n",
       "      <th>Retention time (min)</th>\n",
       "      <th>CCS (angstrom^2)</th>\n",
       "      <th>NEG_2022_07_12_NR_LIPIDS_HILIC_KO_RD1</th>\n",
       "      <th>NEG_2022_07_12_NR_LIPIDS_HILIC_KO_RD2</th>\n",
       "      <th>NEG_2022_07_12_NR_LIPIDS_HILIC_WT_RD2</th>\n",
       "      <th>NEG_2022_07_12_NR_LIPIDS_HILIC_WT_RD1</th>\n",
       "      <th>avg abundance</th>\n",
       "    </tr>\n",
       "  </thead>\n",
       "  <tbody>\n",
       "    <tr>\n",
       "      <th>0</th>\n",
       "      <td>3.38_1127.4429n</td>\n",
       "      <td>1186.410226</td>\n",
       "      <td>3.380200</td>\n",
       "      <td>329.487832</td>\n",
       "      <td>2758.954788</td>\n",
       "      <td>2804.938082</td>\n",
       "      <td>2893.775416</td>\n",
       "      <td>2917.295694</td>\n",
       "      <td>2843.740995</td>\n",
       "    </tr>\n",
       "    <tr>\n",
       "      <th>1</th>\n",
       "      <td>3.69_1133.7824n</td>\n",
       "      <td>1132.775158</td>\n",
       "      <td>3.690500</td>\n",
       "      <td>342.157737</td>\n",
       "      <td>17611.659100</td>\n",
       "      <td>19095.270230</td>\n",
       "      <td>14009.773180</td>\n",
       "      <td>13916.854130</td>\n",
       "      <td>16158.389160</td>\n",
       "    </tr>\n",
       "    <tr>\n",
       "      <th>2</th>\n",
       "      <td>1.48_1083.7574m/z</td>\n",
       "      <td>1083.757381</td>\n",
       "      <td>1.484217</td>\n",
       "      <td>342.344401</td>\n",
       "      <td>1834.771612</td>\n",
       "      <td>1818.624385</td>\n",
       "      <td>1546.419963</td>\n",
       "      <td>1634.006231</td>\n",
       "      <td>1708.455548</td>\n",
       "    </tr>\n",
       "    <tr>\n",
       "      <th>3</th>\n",
       "      <td>3.85_1087.6670n</td>\n",
       "      <td>1068.671271</td>\n",
       "      <td>3.845650</td>\n",
       "      <td>326.779760</td>\n",
       "      <td>2995.513996</td>\n",
       "      <td>3672.518276</td>\n",
       "      <td>2131.059422</td>\n",
       "      <td>2130.648847</td>\n",
       "      <td>2732.435135</td>\n",
       "    </tr>\n",
       "    <tr>\n",
       "      <th>4</th>\n",
       "      <td>1.76_1006.6900n</td>\n",
       "      <td>1041.644231</td>\n",
       "      <td>1.760767</td>\n",
       "      <td>342.518710</td>\n",
       "      <td>1233.552843</td>\n",
       "      <td>1248.096598</td>\n",
       "      <td>1162.076737</td>\n",
       "      <td>1166.206240</td>\n",
       "      <td>1202.483105</td>\n",
       "    </tr>\n",
       "    <tr>\n",
       "      <th>...</th>\n",
       "      <td>...</td>\n",
       "      <td>...</td>\n",
       "      <td>...</td>\n",
       "      <td>...</td>\n",
       "      <td>...</td>\n",
       "      <td>...</td>\n",
       "      <td>...</td>\n",
       "      <td>...</td>\n",
       "      <td>...</td>\n",
       "    </tr>\n",
       "    <tr>\n",
       "      <th>233</th>\n",
       "      <td>4.97_327.2295m/z</td>\n",
       "      <td>327.229489</td>\n",
       "      <td>4.965617</td>\n",
       "      <td>190.536346</td>\n",
       "      <td>1195.847840</td>\n",
       "      <td>1133.671182</td>\n",
       "      <td>1729.564823</td>\n",
       "      <td>1674.359184</td>\n",
       "      <td>1433.360757</td>\n",
       "    </tr>\n",
       "    <tr>\n",
       "      <th>234</th>\n",
       "      <td>0.67_268.2125n</td>\n",
       "      <td>327.226358</td>\n",
       "      <td>0.674600</td>\n",
       "      <td>187.278056</td>\n",
       "      <td>1059.696513</td>\n",
       "      <td>975.428107</td>\n",
       "      <td>1289.768565</td>\n",
       "      <td>1258.867120</td>\n",
       "      <td>1145.940076</td>\n",
       "    </tr>\n",
       "    <tr>\n",
       "      <th>235</th>\n",
       "      <td>1.52_299.2549m/z</td>\n",
       "      <td>299.254949</td>\n",
       "      <td>1.518067</td>\n",
       "      <td>184.695270</td>\n",
       "      <td>1131.228587</td>\n",
       "      <td>1214.625022</td>\n",
       "      <td>981.867495</td>\n",
       "      <td>981.732715</td>\n",
       "      <td>1077.363455</td>\n",
       "    </tr>\n",
       "    <tr>\n",
       "      <th>236</th>\n",
       "      <td>1.61_271.2248m/z</td>\n",
       "      <td>271.224753</td>\n",
       "      <td>1.605533</td>\n",
       "      <td>178.934159</td>\n",
       "      <td>2082.554572</td>\n",
       "      <td>2216.054218</td>\n",
       "      <td>1411.149357</td>\n",
       "      <td>1535.095948</td>\n",
       "      <td>1811.213524</td>\n",
       "    </tr>\n",
       "    <tr>\n",
       "      <th>237</th>\n",
       "      <td>0.71_253.2142m/z</td>\n",
       "      <td>253.214245</td>\n",
       "      <td>0.708450</td>\n",
       "      <td>172.925313</td>\n",
       "      <td>778.856003</td>\n",
       "      <td>728.423599</td>\n",
       "      <td>1138.644552</td>\n",
       "      <td>1063.667163</td>\n",
       "      <td>927.397829</td>\n",
       "    </tr>\n",
       "  </tbody>\n",
       "</table>\n",
       "<p>238 rows × 9 columns</p>\n",
       "</div>"
      ],
      "text/plain": [
       "              Compound          m/z  Retention time (min)  CCS (angstrom^2)  \\\n",
       "0      3.38_1127.4429n  1186.410226              3.380200        329.487832   \n",
       "1      3.69_1133.7824n  1132.775158              3.690500        342.157737   \n",
       "2    1.48_1083.7574m/z  1083.757381              1.484217        342.344401   \n",
       "3      3.85_1087.6670n  1068.671271              3.845650        326.779760   \n",
       "4      1.76_1006.6900n  1041.644231              1.760767        342.518710   \n",
       "..                 ...          ...                   ...               ...   \n",
       "233   4.97_327.2295m/z   327.229489              4.965617        190.536346   \n",
       "234     0.67_268.2125n   327.226358              0.674600        187.278056   \n",
       "235   1.52_299.2549m/z   299.254949              1.518067        184.695270   \n",
       "236   1.61_271.2248m/z   271.224753              1.605533        178.934159   \n",
       "237   0.71_253.2142m/z   253.214245              0.708450        172.925313   \n",
       "\n",
       "     NEG_2022_07_12_NR_LIPIDS_HILIC_KO_RD1  \\\n",
       "0                              2758.954788   \n",
       "1                             17611.659100   \n",
       "2                              1834.771612   \n",
       "3                              2995.513996   \n",
       "4                              1233.552843   \n",
       "..                                     ...   \n",
       "233                            1195.847840   \n",
       "234                            1059.696513   \n",
       "235                            1131.228587   \n",
       "236                            2082.554572   \n",
       "237                             778.856003   \n",
       "\n",
       "     NEG_2022_07_12_NR_LIPIDS_HILIC_KO_RD2  \\\n",
       "0                              2804.938082   \n",
       "1                             19095.270230   \n",
       "2                              1818.624385   \n",
       "3                              3672.518276   \n",
       "4                              1248.096598   \n",
       "..                                     ...   \n",
       "233                            1133.671182   \n",
       "234                             975.428107   \n",
       "235                            1214.625022   \n",
       "236                            2216.054218   \n",
       "237                             728.423599   \n",
       "\n",
       "     NEG_2022_07_12_NR_LIPIDS_HILIC_WT_RD2  \\\n",
       "0                              2893.775416   \n",
       "1                             14009.773180   \n",
       "2                              1546.419963   \n",
       "3                              2131.059422   \n",
       "4                              1162.076737   \n",
       "..                                     ...   \n",
       "233                            1729.564823   \n",
       "234                            1289.768565   \n",
       "235                             981.867495   \n",
       "236                            1411.149357   \n",
       "237                            1138.644552   \n",
       "\n",
       "     NEG_2022_07_12_NR_LIPIDS_HILIC_WT_RD1  avg abundance  \n",
       "0                              2917.295694    2843.740995  \n",
       "1                             13916.854130   16158.389160  \n",
       "2                              1634.006231    1708.455548  \n",
       "3                              2130.648847    2732.435135  \n",
       "4                              1166.206240    1202.483105  \n",
       "..                                     ...            ...  \n",
       "233                            1674.359184    1433.360757  \n",
       "234                            1258.867120    1145.940076  \n",
       "235                             981.732715    1077.363455  \n",
       "236                            1535.095948    1811.213524  \n",
       "237                            1063.667163     927.397829  \n",
       "\n",
       "[238 rows x 9 columns]"
      ]
     },
     "execution_count": 4,
     "metadata": {},
     "output_type": "execute_result"
    }
   ],
   "source": [
    "data"
   ]
  },
  {
   "cell_type": "code",
   "execution_count": 16,
   "metadata": {
    "id": "5-EoC74XJ-ef"
   },
   "outputs": [],
   "source": [
    "retention_time = data['Retention time (min)'][:].to_numpy().astype('float32')\n",
    "ccs = data['CCS (angstrom^2)'][:].to_numpy().astype('float32')\n",
    "mz = data['m/z'][:].to_numpy().astype('float32')\n",
    "compound_name = data['Compound'][:].to_numpy().astype('str')"
   ]
  },
  {
   "cell_type": "code",
   "execution_count": 26,
   "metadata": {
    "colab": {
     "base_uri": "https://localhost:8080/"
    },
    "id": "WMzDopK4Lv2g",
    "outputId": "9b5b3927-fa2c-46df-a9e8-205282d50b39"
   },
   "outputs": [
    {
     "name": "stdout",
     "output_type": "stream",
     "text": [
      "0\n",
      "100\n",
      "200\n"
     ]
    }
   ],
   "source": [
    "# m/z conditions\n",
    "truth_ls = []\n",
    "for i in range(len(mz)):\n",
    "  if i%100 == 0:\n",
    "    print(i)\n",
    "  mz_new = np.delete(mz,i)\n",
    "  for j in range(len(mz_new)):\n",
    "    if (mz_new[j] <= mz[i] + 6.04 and mz_new[j] >= mz[i]+6.02) or (mz_new[j] >= mz[i] - 6.04 and mz_new[j] <= mz[i]-6.02):\n",
    "      truth_ls.append([i,j])"
   ]
  },
  {
   "cell_type": "code",
   "execution_count": 27,
   "metadata": {
    "colab": {
     "base_uri": "https://localhost:8080/"
    },
    "id": "ElSnwA2NQbcS",
    "outputId": "769da087-8459-4c33-e60e-d0b2cce193fc"
   },
   "outputs": [
    {
     "data": {
      "text/plain": [
       "50"
      ]
     },
     "execution_count": 27,
     "metadata": {},
     "output_type": "execute_result"
    }
   ],
   "source": [
    "len(truth_ls)"
   ]
  },
  {
   "cell_type": "code",
   "execution_count": 28,
   "metadata": {
    "id": "7re23gkVOjpY"
   },
   "outputs": [],
   "source": [
    "# Retention time conditions\n",
    "truth_ls_2 = []\n",
    "for i in range(len(truth_ls)):\n",
    "  idx1 = truth_ls[i][0]; idx2 = truth_ls[i][1]\n",
    "  rt1 = retention_time[idx1]\n",
    "  retention_time_new = np.delete(retention_time,idx1)\n",
    "  rt2 = retention_time_new[idx2]\n",
    "  if rt1 <= rt2+rt2*.03 and rt1 >= rt2-rt2*.03:\n",
    "    truth_ls_2.append(truth_ls[i])\n"
   ]
  },
  {
   "cell_type": "code",
   "execution_count": 29,
   "metadata": {
    "colab": {
     "base_uri": "https://localhost:8080/"
    },
    "id": "A_w9kMgRQNY2",
    "outputId": "9585b527-bd74-4cce-f2ce-391c0ab4793b"
   },
   "outputs": [
    {
     "data": {
      "text/plain": [
       "22"
      ]
     },
     "execution_count": 29,
     "metadata": {},
     "output_type": "execute_result"
    }
   ],
   "source": [
    "len(truth_ls_2)"
   ]
  },
  {
   "cell_type": "code",
   "execution_count": 30,
   "metadata": {
    "id": "wkZnkWJOME_a"
   },
   "outputs": [],
   "source": [
    "# CCS conditions\n",
    "truth_ls_3 = []\n",
    "for i in range(len(truth_ls_2)):\n",
    "  idx1 = truth_ls_2[i][0]; idx2 = truth_ls_2[i][1]\n",
    "  rt1 = ccs[idx1]\n",
    "  ccs_new = np.delete(ccs,idx1)\n",
    "  rt2 = ccs_new[idx2]\n",
    "  if rt1 <= rt2+rt2*.05 and rt1 >= rt2-rt2*.05:\n",
    "    truth_ls_3.append(truth_ls_2[i])\n"
   ]
  },
  {
   "cell_type": "code",
   "execution_count": 31,
   "metadata": {
    "colab": {
     "base_uri": "https://localhost:8080/"
    },
    "id": "PDVixuEMMFHF",
    "outputId": "ec861908-e97f-4f37-b10e-0a5d0042d91f"
   },
   "outputs": [
    {
     "data": {
      "text/plain": [
       "22"
      ]
     },
     "execution_count": 31,
     "metadata": {},
     "output_type": "execute_result"
    }
   ],
   "source": [
    "len(truth_ls_3)"
   ]
  },
  {
   "cell_type": "code",
   "execution_count": 32,
   "metadata": {
    "id": "_8xWLMRUKJ0Z"
   },
   "outputs": [
    {
     "name": "stdout",
     "output_type": "stream",
     "text": [
      "Compound 1: 6.36_919.7027n paired with Compound 2:6.36_877.6909n\n",
      "Compound 1: 6.36_877.6909n paired with Compound 2:6.36_919.7027n\n",
      "Compound 1: 7.04_867.7357n paired with Compound 2:7.04_847.7105n\n",
      "Compound 1: 7.04_847.7105n paired with Compound 2:7.04_867.7357n\n",
      "Compound 1: 4.93_821.7251n paired with Compound 2:4.93_850.6209m/z\n",
      "Compound 1: 4.93_850.6209m/z paired with Compound 2:4.93_821.7251n\n",
      "Compound 1: 0.83_839.6405m/z paired with Compound 2:0.83_833.6046m/z\n",
      "Compound 1: 0.83_833.6046m/z paired with Compound 2:0.83_839.6405m/z\n",
      "Compound 1: 1.14_816.6417m/z paired with Compound 2:1.14_810.6040m/z\n",
      "Compound 1: 1.14_810.6040m/z paired with Compound 2:1.14_816.6417m/z\n",
      "Compound 1: 1.14_753.6430n paired with Compound 2:1.14_782.5737m/z\n",
      "Compound 1: 4.97_752.6298n paired with Compound 2:4.97_782.5604n\n",
      "Compound 1: 1.14_782.5737m/z paired with Compound 2:1.14_753.6430n\n",
      "Compound 1: 4.97_782.5604n paired with Compound 2:4.97_752.6298n\n",
      "Compound 1: 5.05_761.7419m/z paired with Compound 2:5.05_734.7163n\n",
      "Compound 1: 4.12_739.5869n paired with Compound 2:4.12_754.5238m/z\n",
      "Compound 1: 4.97_759.5975m/z paired with Compound 2:5.02_753.5608m/z\n",
      "Compound 1: 4.12_720.0570n paired with Compound 2:4.24_770.0221n\n",
      "Compound 1: 5.05_734.7163n paired with Compound 2:5.05_761.7419m/z\n",
      "Compound 1: 4.12_754.5238m/z paired with Compound 2:4.12_739.5869n\n",
      "Compound 1: 5.02_753.5608m/z paired with Compound 2:4.97_759.5975m/z\n",
      "Compound 1: 4.24_770.0221n paired with Compound 2:4.12_720.0570n\n"
     ]
    }
   ],
   "source": [
    "for i in range(len(truth_ls_3)):\n",
    "  idx1 = truth_ls_3[i][0]; idx2 = truth_ls_3[i][1]\n",
    "  str1 = compound_name[idx1]\n",
    "  compound_new = np.delete(compound_name,idx1)\n",
    "  str2 = compound_new[idx2]\n",
    "  print('Compound 1: ' + str1 + ' paired with Compound 2:' + str2)"
   ]
  },
  {
   "cell_type": "code",
   "execution_count": 34,
   "metadata": {},
   "outputs": [
    {
     "name": "stdout",
     "output_type": "stream",
     "text": [
      "[[33, 34], [35, 33], [41, 44], [45, 41], [62, 64], [65, 62], [74, 78], [79, 74], [92, 96], [97, 92], [115, 121], [117, 122], [122, 115], [123, 117], [143, 149], [145, 152], [146, 153], [148, 156], [150, 143], [153, 145], [154, 146], [157, 148]]\n"
     ]
    }
   ],
   "source": [
    "print(truth_ls_3)"
   ]
  },
  {
   "cell_type": "code",
   "execution_count": 51,
   "metadata": {},
   "outputs": [],
   "source": [
    "  mass1_list = []\n",
    "  mass2_list = []\n",
    "  rt1_list = []\n",
    "  rt2_list = []\n",
    "for i in range(len(truth_ls_3)):\n",
    "   idx1 = truth_ls_3[i][0]; idx2 = truth_ls_3[i][1]\n",
    "   mass1 = mz[idx1]\n",
    "   ret1 = retention_time[idx1]\n",
    "   mass_new = np.delete(mz,idx1)\n",
    "   mass2 = mass_new[idx2]\n",
    "   ret_new = np.delete(retention_time, idx1)\n",
    "   ret2 = ret_new[idx2]\n",
    "   mass1_list.append(mass1)\n",
    "   mass2_list.append(mass2)\n",
    "   rt1_list.append(ret1)\n",
    "   rt2_list.append(ret2)\n",
    "outputdata = {'Mass 1': mass1_list, 'RT 1': rt1_list, 'Mass 2': mass2_list, 'RT 2': rt2_list}\n",
    "outputdf = pd.DataFrame(outputdata, columns = ['Mass 1', 'RT 1', 'Mass 2', 'RT 2'])\n",
    "outputdf.head()\n",
    "outputdf.to_excel('../data/output.xlsx')"
   ]
  },
  {
   "cell_type": "code",
   "execution_count": null,
   "metadata": {},
   "outputs": [],
   "source": []
  }
 ],
 "metadata": {
  "colab": {
   "provenance": []
  },
  "kernelspec": {
   "display_name": "Python 3 (ipykernel)",
   "language": "python",
   "name": "python3"
  },
  "language_info": {
   "codemirror_mode": {
    "name": "ipython",
    "version": 3
   },
   "file_extension": ".py",
   "mimetype": "text/x-python",
   "name": "python",
   "nbconvert_exporter": "python",
   "pygments_lexer": "ipython3",
   "version": "3.9.12"
  }
 },
 "nbformat": 4,
 "nbformat_minor": 1
}
