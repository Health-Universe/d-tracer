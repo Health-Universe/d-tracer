{
 "cells": [
  {
   "cell_type": "code",
   "execution_count": null,
   "id": "d58d657b",
   "metadata": {},
   "outputs": [],
   "source": [
    "import functions\n",
    "data = '../data/2022_07_13_WTvsKO_allcompounds_neg.csv'"
   ]
  },
  {
   "cell_type": "code",
   "execution_count": null,
   "id": "b676a70a",
   "metadata": {},
   "outputs": [],
   "source": [
    "if data is not None:\n",
    "    df = functions.upload(data)\n",
    "    df_keep = functions.format_col(df)\n",
    "    df_pairs = functions.pick_pairs(df_keep)\n",
    "    print(\"Dataset available for use\")\n",
    "else:\n",
    "    print(\"Please upload a dataset\")"
   ]
  },
  {
   "cell_type": "code",
   "execution_count": null,
   "id": "9a73ea1c",
   "metadata": {},
   "outputs": [],
   "source": [
    "choices = [\n",
    "\t\"What do you want to do?\",\n",
    "\t\"Show Compound Pairs\",\n",
    "\t\"Adjust Masses\",\n",
    "\t\"ID Lipids\",\n",
    "\t\"Visualize\"\n",
    "]\n",
    "\n",
    "choice = choices[1] #st.selectbox(\"Pick One:\", choices)\n",
    "\n",
    "if choice == choices[1]:\n",
    "\tst.write(df_pairs)\n",
    "else: \n",
    "\tpass\n",
    "\n",
    "if choice == choices[2]:\n",
    "\tm1 = st.number_input(\"Enter first mass adjustment:\", 0, 80, 5)\n",
    "\tm2 = st.number_input(\"Enter second mass adjustment:\", 0, 80, 11)\n",
    "\tdf_adjusted = mass_adj(df_pairs)\n",
    "\tst.write(df_adjusted)\n",
    "else:\n",
    "\tpass\n",
    "\n",
    "if choice == choices[3]:\n",
    "\t# Lipidomics database\n",
    "    pass\n",
    "else:\n",
    "\tpass\n",
    "\n",
    "if choice == choices[4]:\n",
    "\t# Visual of lipids???\n",
    "    pass\n",
    "else: \n",
    "\tpass"
   ]
  },
  {
   "cell_type": "code",
   "execution_count": null,
   "id": "af94af43",
   "metadata": {},
   "outputs": [],
   "source": []
  }
 ],
 "metadata": {
  "kernelspec": {
   "display_name": "Python 3.9.12 ('base')",
   "language": "python",
   "name": "python3"
  },
  "language_info": {
   "codemirror_mode": {
    "name": "ipython",
    "version": 3
   },
   "file_extension": ".py",
   "mimetype": "text/x-python",
   "name": "python",
   "nbconvert_exporter": "python",
   "pygments_lexer": "ipython3",
   "version": "3.9.12"
  },
  "vscode": {
   "interpreter": {
    "hash": "69627ec5890e0b54de2feb78db75d268619931803e79abb516238e9970b9c367"
   }
  }
 },
 "nbformat": 4,
 "nbformat_minor": 5
}
