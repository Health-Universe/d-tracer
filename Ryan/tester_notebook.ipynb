{
 "cells": [
  {
   "cell_type": "code",
   "execution_count": 12,
   "id": "d58d657b",
   "metadata": {},
   "outputs": [],
   "source": [
    "import functions\n",
    "data = '../data/2022_07_13_WTvsKO_allcompounds_neg.csv'\n",
    "a = 5\n",
    "b = 11"
   ]
  },
  {
   "cell_type": "code",
   "execution_count": 13,
   "id": "b676a70a",
   "metadata": {},
   "outputs": [
    {
     "ename": "NameError",
     "evalue": "name 'mass_adj' is not defined",
     "output_type": "error",
     "traceback": [
      "\u001b[0;31m---------------------------------------------------------------------------\u001b[0m",
      "\u001b[0;31mNameError\u001b[0m                                 Traceback (most recent call last)",
      "Cell \u001b[0;32mIn [13], line 10\u001b[0m\n\u001b[1;32m      8\u001b[0m     pairs \u001b[39m=\u001b[39m functions\u001b[39m.\u001b[39mpick_pairs(df_keep, x, y)\n\u001b[1;32m      9\u001b[0m     df_pairs \u001b[39m=\u001b[39m df_keep\u001b[39m.\u001b[39miloc[pairs\u001b[39m.\u001b[39mflatten()]\n\u001b[0;32m---> 10\u001b[0m     df_adj \u001b[39m=\u001b[39m mass_adj(pairs, df_keep, x, y)\n\u001b[1;32m     11\u001b[0m     \u001b[39mprint\u001b[39m(\u001b[39m\"\u001b[39m\u001b[39mDataset available for use\u001b[39m\u001b[39m\"\u001b[39m)\n\u001b[1;32m     12\u001b[0m \u001b[39melse\u001b[39;00m:\n",
      "\u001b[0;31mNameError\u001b[0m: name 'mass_adj' is not defined"
     ]
    }
   ],
   "source": [
    "D = 1.0063\n",
    "\n",
    "if data is not None:\n",
    "    df = functions.upload(data)\n",
    "    df_keep = functions.format_col(df)[:100]\n",
    "    pairs = functions.pick_pairs(df_keep, a, b)\n",
    "    df_pairs = df_keep.iloc[pairs.flatten()]\n",
    "    df_adj = mass_adj(pairs, df_keep, a, b)\n",
    "    print(\"Dataset available for use\")\n",
    "else:\n",
    "    print(\"Please upload a dataset\")"
   ]
  },
  {
   "cell_type": "code",
   "execution_count": 14,
   "id": "f246468a",
   "metadata": {},
   "outputs": [
    {
     "ename": "NameError",
     "evalue": "name 'df_adj' is not defined",
     "output_type": "error",
     "traceback": [
      "\u001b[0;31m---------------------------------------------------------------------------\u001b[0m",
      "\u001b[0;31mNameError\u001b[0m                                 Traceback (most recent call last)",
      "Cell \u001b[0;32mIn [14], line 1\u001b[0m\n\u001b[0;32m----> 1\u001b[0m df_adj\n",
      "\u001b[0;31mNameError\u001b[0m: name 'df_adj' is not defined"
     ]
    }
   ],
   "source": [
    "df_adj"
   ]
  },
  {
   "cell_type": "code",
   "execution_count": null,
   "id": "9a73ea1c",
   "metadata": {},
   "outputs": [],
   "source": [
    "choices = [\n",
    "\t\"What do you want to do?\",\n",
    "\t\"Show Compound Pairs\",\n",
    "\t\"Adjust Masses\",\n",
    "\t\"ID Lipids\",\n",
    "\t\"Visualize\"\n",
    "]\n",
    "\n",
    "choice = choices[1] #st.selectbox(\"Pick One:\", choices)\n",
    "\n",
    "if choice == choices[1]:\n",
    "\tst.write(df_pairs)\n",
    "else: \n",
    "\tpass\n",
    "\n",
    "if choice == choices[2]:\n",
    "\tm1 = st.number_input(\"Enter first mass adjustment:\", 0, 80, 5)\n",
    "\tm2 = st.number_input(\"Enter second mass adjustment:\", 0, 80, 11)\n",
    "\tdf_adjusted = mass_adj(df_pairs)\n",
    "\tst.write(df_adjusted)\n",
    "else:\n",
    "\tpass\n",
    "\n",
    "if choice == choices[3]:\n",
    "\t# Lipidomics database\n",
    "    pass\n",
    "else:\n",
    "\tpass\n",
    "\n",
    "if choice == choices[4]:\n",
    "\t# Visual of lipids???\n",
    "    pass\n",
    "else: \n",
    "\tpass"
   ]
  },
  {
   "cell_type": "code",
   "execution_count": null,
   "id": "af94af43",
   "metadata": {},
   "outputs": [],
   "source": []
  }
 ],
 "metadata": {
  "kernelspec": {
   "display_name": "Python 3.9.12 ('base')",
   "language": "python",
   "name": "python3"
  },
  "language_info": {
   "codemirror_mode": {
    "name": "ipython",
    "version": 3
   },
   "file_extension": ".py",
   "mimetype": "text/x-python",
   "name": "python",
   "nbconvert_exporter": "python",
   "pygments_lexer": "ipython3",
   "version": "3.9.12"
  },
  "vscode": {
   "interpreter": {
    "hash": "69627ec5890e0b54de2feb78db75d268619931803e79abb516238e9970b9c367"
   }
  }
 },
 "nbformat": 4,
 "nbformat_minor": 5
}
