{
 "cells": [
  {
   "cell_type": "code",
   "execution_count": 1,
   "id": "a16ebbc1",
   "metadata": {},
   "outputs": [],
   "source": [
    "data = '../data/2022_07_13_WTvsKO_allcompounds_neg.csv'\n",
    "\n",
    "a = 5\n",
    "b = 11\n",
    "\n",
    "D = 1.0063\n",
    "\n",
    "m1 = a*D\n",
    "m2 = b*D"
   ]
  },
  {
   "cell_type": "code",
   "execution_count": 2,
   "id": "7d02c3b3",
   "metadata": {},
   "outputs": [],
   "source": [
    "import pandas as pd\n",
    "import numpy as np\n",
    "import time"
   ]
  },
  {
   "cell_type": "markdown",
   "id": "2f7711be",
   "metadata": {},
   "source": [
    "### fcn to upload data"
   ]
  },
  {
   "cell_type": "code",
   "execution_count": 3,
   "id": "6247330f",
   "metadata": {},
   "outputs": [],
   "source": [
    "def upload(file):\n",
    "    df = pd.read_csv(file, header=2) #header=2 cuts off first two rows\n",
    "    return df\n",
    "\n",
    "df_raw = upload(data)"
   ]
  },
  {
   "cell_type": "markdown",
   "id": "44988972",
   "metadata": {},
   "source": [
    "- sort df at beginning by m/z\n",
    "- define m1 and m2 at beginning; applicable to pair picking as well as mass adjustment\n",
    "- m1 = a*1.0063, m2 = b*1.0063\n",
    "- input for number of compounds being analyzed, rather than finding the '.1' values"
   ]
  },
  {
   "cell_type": "markdown",
   "id": "ac5bcbb1",
   "metadata": {},
   "source": [
    "### fcn to format data"
   ]
  },
  {
   "cell_type": "code",
   "execution_count": 4,
   "id": "7a7d95be",
   "metadata": {},
   "outputs": [],
   "source": [
    "def format(df):\n",
    "    col = df.columns.tolist() #create a list of all column names\n",
    "    main = [0,2,4,5] #Index of main columns we wish to keep and compare\n",
    "    stop = col.index([col for col in df.columns if '.1' in col][0]) #index of duplicate columns we don't need\n",
    "    intensities = col[16:stop] #intensity columns we wish to keep\n",
    "    col_main = [] #Column names of kept columns\n",
    "    for i in main:\n",
    "        col_main.append(col[i])\n",
    "    '''Create new filtered dataframe of important columns'''\n",
    "    df_keep = df[col_main]# + intensities] #.sort_values([\"m/z\"], ascending=False)\n",
    "    return df_keep\n",
    "\n",
    "df_keep = format(df_raw)[:200]\n",
    "\n",
    "df_keep.to_csv('formatted_data.csv',index=False)"
   ]
  },
  {
   "cell_type": "code",
   "execution_count": null,
   "id": "a97ad8a6",
   "metadata": {},
   "outputs": [],
   "source": [
    "pd.read_csv('formatted_data.csv')"
   ]
  },
  {
   "cell_type": "markdown",
   "id": "edd77c18",
   "metadata": {},
   "source": [
    "### fcn to pick out pairs"
   ]
  },
  {
   "cell_type": "code",
   "execution_count": 5,
   "id": "132eefe5",
   "metadata": {},
   "outputs": [],
   "source": [
    "def pick_pairs(df):\n",
    "    '''Returns index pairs of compounds with same RT and CCS'''\n",
    "\n",
    "    '''Define lists and tolerances of each column to compare with itself'''\n",
    "    mz = df['m/z'].tolist()\n",
    "    mz_tol = 1e-4\n",
    "    rt = df['Retention time (min)'].tolist()\n",
    "    rt_tol = 1e-3\n",
    "    ccs = df['CCS (angstrom^2)'].tolist()\n",
    "    ccs_tol = 1e-3\n",
    "\n",
    "    # '''Define lists and tolerances of each column to compare with itself'''\n",
    "    # mz = np.array(df['m/z'])\n",
    "    # mz_tol = 1e-4\n",
    "    # rt = np.array(df['Retention time (min)'])\n",
    "    # rt_tol = 1e-3\n",
    "    # ccs = np.array(df['CCS (angstrom^2)'])\n",
    "    # ccs_tol = 1e-3\n",
    "\n",
    "    # '''Define lists and tolerances of each column to compare with itself'''\n",
    "    # mz = df['m/z']\n",
    "    # mz_tol = 1e-4\n",
    "    # rt = df['Retention time (min)']\n",
    "    # rt_tol = 1e-3\n",
    "    # ccs = df['CCS (angstrom^2)']\n",
    "    # ccs_tol = 1e-3\n",
    "\n",
    "    '''Initialize a list for indexes to be held for each pair of matched values'''\n",
    "    idxs = []\n",
    "    '''Create nested for loop to compare i with j in each column'''\n",
    "    for i in range(len(df)):\n",
    "        for j in range(len(df)):\n",
    "            '''Define checks for each column'''\n",
    "            check_mz = np.isclose(mz[i], mz[j] + (m2 - m1), mz_tol)        \n",
    "            check_rt = np.isclose(rt[i], rt[j], rt_tol)\n",
    "            check_ccs = np.isclose(ccs[i], ccs[j], ccs_tol)\n",
    "            \n",
    "            '''Record results of each check (True/False)'''\n",
    "            checks = [check_mz, check_rt, check_ccs]\n",
    "            \n",
    "            '''If all checks are true, append to list of pairs'''\n",
    "            if all(checks) and i!=j:\n",
    "                idxs.append([i,j])\n",
    "                pairs = np.array(idxs)\n",
    "            else:\n",
    "                pass\n",
    "\n",
    "\n",
    "    return pairs"
   ]
  },
  {
   "cell_type": "code",
   "execution_count": 6,
   "id": "b7c82ff1",
   "metadata": {},
   "outputs": [
    {
     "name": "stdout",
     "output_type": "stream",
     "text": [
      "Run time =  5.791602611541748\n"
     ]
    },
    {
     "data": {
      "text/plain": [
       "array([[  0, 188],\n",
       "       [ 14,  45],\n",
       "       [ 16,  15],\n",
       "       [ 20,  18],\n",
       "       [ 25, 150],\n",
       "       [ 28,  24],\n",
       "       [ 35, 104],\n",
       "       [ 36,  24],\n",
       "       [ 38,  26],\n",
       "       [ 41, 135],\n",
       "       [ 43, 149],\n",
       "       [ 44,  10],\n",
       "       [ 54,  75],\n",
       "       [ 55, 101],\n",
       "       [ 56,  30],\n",
       "       [ 57, 172],\n",
       "       [ 70,   4],\n",
       "       [ 88, 157],\n",
       "       [ 92,  90],\n",
       "       [105,  64],\n",
       "       [121,  48],\n",
       "       [138,  67],\n",
       "       [164, 129],\n",
       "       [167, 180],\n",
       "       [191, 198],\n",
       "       [199, 136]])"
      ]
     },
     "execution_count": 6,
     "metadata": {},
     "output_type": "execute_result"
    }
   ],
   "source": [
    "start = time.time()\n",
    "pairs = pick_pairs(df_keep)\n",
    "end = time.time()\n",
    "run_time = end-start\n",
    "print(\"Run time = \", run_time)\n",
    "pairs"
   ]
  },
  {
   "cell_type": "markdown",
   "id": "2df98891",
   "metadata": {},
   "source": [
    "### Show dataframe of pairs"
   ]
  },
  {
   "cell_type": "code",
   "execution_count": 11,
   "id": "f398f6d1",
   "metadata": {},
   "outputs": [
    {
     "ename": "AssertionError",
     "evalue": "\nArrays are not equal\n\n(shapes (26, 2), (25, 2) mismatch)\n x: array([[  0, 188],\n       [ 14,  45],\n       [ 16,  15],...\n y: array([[  0, 188],\n       [ 14,  45],\n       [ 16,  15],...",
     "output_type": "error",
     "traceback": [
      "\u001b[0;31m---------------------------------------------------------------------------\u001b[0m",
      "\u001b[0;31mAssertionError\u001b[0m                            Traceback (most recent call last)",
      "Cell \u001b[0;32mIn [11], line 30\u001b[0m\n\u001b[1;32m      1\u001b[0m test_pairs \u001b[39m=\u001b[39m np\u001b[39m.\u001b[39marray([\n\u001b[1;32m      2\u001b[0m             [  \u001b[39m0\u001b[39m, \u001b[39m188\u001b[39m],\n\u001b[1;32m      3\u001b[0m             [ \u001b[39m14\u001b[39m,  \u001b[39m45\u001b[39m],\n\u001b[0;32m   (...)\u001b[0m\n\u001b[1;32m     26\u001b[0m             \u001b[39m# [191, 198],\u001b[39;00m\n\u001b[1;32m     27\u001b[0m             [\u001b[39m199\u001b[39m, \u001b[39m136\u001b[39m]])\n\u001b[1;32m     29\u001b[0m \u001b[39m# np.testing.assert_array_equal([[5,2],[2,3]], [[5,2],[2,2]])\u001b[39;00m\n\u001b[0;32m---> 30\u001b[0m np\u001b[39m.\u001b[39;49mtesting\u001b[39m.\u001b[39;49massert_array_equal(pairs, test_pairs)\n",
      "    \u001b[0;31m[... skipping hidden 1 frame]\u001b[0m\n",
      "File \u001b[0;32m~/miniconda3/lib/python3.9/site-packages/numpy/testing/_private/utils.py:763\u001b[0m, in \u001b[0;36massert_array_compare\u001b[0;34m(comparison, x, y, err_msg, verbose, header, precision, equal_nan, equal_inf)\u001b[0m\n\u001b[1;32m    757\u001b[0m \u001b[39mif\u001b[39;00m \u001b[39mnot\u001b[39;00m cond:\n\u001b[1;32m    758\u001b[0m     msg \u001b[39m=\u001b[39m build_err_msg([x, y],\n\u001b[1;32m    759\u001b[0m                         err_msg\n\u001b[1;32m    760\u001b[0m                         \u001b[39m+\u001b[39m \u001b[39mf\u001b[39m\u001b[39m'\u001b[39m\u001b[39m\\n\u001b[39;00m\u001b[39m(shapes \u001b[39m\u001b[39m{\u001b[39;00mx\u001b[39m.\u001b[39mshape\u001b[39m}\u001b[39;00m\u001b[39m, \u001b[39m\u001b[39m{\u001b[39;00my\u001b[39m.\u001b[39mshape\u001b[39m}\u001b[39;00m\u001b[39m mismatch)\u001b[39m\u001b[39m'\u001b[39m,\n\u001b[1;32m    761\u001b[0m                         verbose\u001b[39m=\u001b[39mverbose, header\u001b[39m=\u001b[39mheader,\n\u001b[1;32m    762\u001b[0m                         names\u001b[39m=\u001b[39m(\u001b[39m'\u001b[39m\u001b[39mx\u001b[39m\u001b[39m'\u001b[39m, \u001b[39m'\u001b[39m\u001b[39my\u001b[39m\u001b[39m'\u001b[39m), precision\u001b[39m=\u001b[39mprecision)\n\u001b[0;32m--> 763\u001b[0m     \u001b[39mraise\u001b[39;00m \u001b[39mAssertionError\u001b[39;00m(msg)\n\u001b[1;32m    765\u001b[0m flagged \u001b[39m=\u001b[39m bool_(\u001b[39mFalse\u001b[39;00m)\n\u001b[1;32m    766\u001b[0m \u001b[39mif\u001b[39;00m isnumber(x) \u001b[39mand\u001b[39;00m isnumber(y):\n",
      "\u001b[0;31mAssertionError\u001b[0m: \nArrays are not equal\n\n(shapes (26, 2), (25, 2) mismatch)\n x: array([[  0, 188],\n       [ 14,  45],\n       [ 16,  15],...\n y: array([[  0, 188],\n       [ 14,  45],\n       [ 16,  15],..."
     ]
    }
   ],
   "source": [
    "test_pairs = np.array([\n",
    "            [  0, 188],\n",
    "            [ 14,  45],\n",
    "            [ 16,  15],\n",
    "            [ 20,  18],\n",
    "            [ 25, 150],\n",
    "            [ 28,  24],\n",
    "            [ 35, 104],\n",
    "            [ 36,  24],\n",
    "            [ 38,  26],\n",
    "            [ 41, 135],\n",
    "            [ 43, 149],\n",
    "            [ 44,  10],\n",
    "            [ 54,  75],\n",
    "            [ 55, 101],\n",
    "            [ 56,  30],\n",
    "            [ 57, 172],\n",
    "            [ 70,   4],\n",
    "            [ 88, 157],\n",
    "            [ 92,  90],\n",
    "            [105,  64],\n",
    "            [121,  48],\n",
    "            [138,  67],\n",
    "            [164, 129],\n",
    "            [167, 180],\n",
    "            # [191, 198],\n",
    "            [199, 136]])\n",
    "\n",
    "# np.testing.assert_array_equal([[5,2],[2,3]], [[5,2],[2,2]])\n",
    "np.testing.assert_array_equal(pairs, test_pairs)"
   ]
  },
  {
   "cell_type": "code",
   "execution_count": null,
   "id": "4c553240",
   "metadata": {},
   "outputs": [],
   "source": [
    "df_pairs = df_keep.iloc[pairs.flatten()]\n",
    "df_pairs.head()\n"
   ]
  },
  {
   "cell_type": "markdown",
   "id": "ccc06f14",
   "metadata": {},
   "source": [
    "### fcn to adjust masses of each pair"
   ]
  },
  {
   "cell_type": "code",
   "execution_count": null,
   "id": "43cdc167",
   "metadata": {},
   "outputs": [],
   "source": [
    "def mass_adj(pairs, df, x, y):\n",
    "    '''Adjusts masses of given dataframe and list of pairs. Pairs must be together, with higher mass first. x is the lower value, y is the higher value.'''\n",
    "    \n",
    "    df_pairs = df.iloc[pairs.flatten()]\n",
    "    masses = np.array(df_pairs[\"m/z\"]).reshape((len(pairs), 2))\n",
    "    masses[:, 0] -= y\n",
    "    masses[:, 1] -= x\n",
    "\n",
    "    df_pairs.insert(2, \"m/z_adj\", masses.flatten().tolist())\n",
    "\n",
    "    return df_pairs\n",
    "\n",
    "df_adj = mass_adj(pairs, df_keep, m1, m2)\n",
    "df_adj"
   ]
  },
  {
   "cell_type": "code",
   "execution_count": null,
   "id": "29dfb12f",
   "metadata": {},
   "outputs": [],
   "source": []
  }
 ],
 "metadata": {
  "kernelspec": {
   "display_name": "Python 3.9.12 ('base')",
   "language": "python",
   "name": "python3"
  },
  "language_info": {
   "codemirror_mode": {
    "name": "ipython",
    "version": 3
   },
   "file_extension": ".py",
   "mimetype": "text/x-python",
   "name": "python",
   "nbconvert_exporter": "python",
   "pygments_lexer": "ipython3",
   "version": "3.9.12"
  },
  "vscode": {
   "interpreter": {
    "hash": "69627ec5890e0b54de2feb78db75d268619931803e79abb516238e9970b9c367"
   }
  }
 },
 "nbformat": 4,
 "nbformat_minor": 5
}
