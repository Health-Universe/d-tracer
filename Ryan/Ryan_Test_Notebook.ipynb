{
 "cells": [
  {
   "cell_type": "code",
   "execution_count": 1,
   "id": "a16ebbc1",
   "metadata": {},
   "outputs": [],
   "source": [
    "import pandas as pd\n",
    "import numpy as np\n",
    "import streamlit as st"
   ]
  },
  {
   "cell_type": "markdown",
   "id": "2f7711be",
   "metadata": {},
   "source": [
    "# Upload and format data"
   ]
  },
  {
   "cell_type": "code",
   "execution_count": 2,
   "id": "6247330f",
   "metadata": {},
   "outputs": [],
   "source": [
    "data = '../data/2022_07_13_WTvsKO_allcompounds_neg.csv'\n",
    "df = pd.read_csv(data,header=2)"
   ]
  },
  {
   "cell_type": "code",
   "execution_count": 54,
   "id": "7a7d95be",
   "metadata": {},
   "outputs": [],
   "source": [
    "col = df.columns.tolist() #create a list of all column names\n",
    "main = [0,2,4,5] #Index of main columns we wish to keep and compare\n",
    "stop = col.index([col for col in df.columns if '.1' in col][0]) #index of duplicate columns we don't need\n",
    "intensities = col[16:stop] #intensity columns we wish to keep\n",
    "col_main = [] #Column names of kept columns\n",
    "for i in main:\n",
    "    col_main.append(col[i])\n",
    "'''Create new filtered dataframe of important columns'''\n",
    "df_keep = df[col_main+intensities][:100]"
   ]
  },
  {
   "cell_type": "markdown",
   "id": "edd77c18",
   "metadata": {},
   "source": [
    "# Look for pairs in data and print results"
   ]
  },
  {
   "cell_type": "code",
   "execution_count": 78,
   "id": "132eefe5",
   "metadata": {},
   "outputs": [
    {
     "name": "stdout",
     "output_type": "stream",
     "text": [
      "[[14 45]\n",
      " [16 15]\n",
      " [20 18]\n",
      " [28 24]\n",
      " [38 26]\n",
      " [44 10]\n",
      " [54 75]\n",
      " [56 30]\n",
      " [70  4]\n",
      " [92 90]]\n"
     ]
    }
   ],
   "source": [
    "'''Define lists and tolerances of each column to compare with itself'''\n",
    "mz = df_keep['m/z']\n",
    "mz_tol = 1e-4\n",
    "rt = df_keep['Retention time (min)']\n",
    "rt_tol = 1e-3\n",
    "ccs = df_keep['CCS (angstrom^2)']\n",
    "ccs_tol = 1e-3\n",
    "\n",
    "'''Initialize a list for indexes to be held for each pair of matched values'''\n",
    "idxs = []\n",
    "'''Create nested for loop to compare i with j in each column'''\n",
    "for i in range(len(df_keep)):\n",
    "    for j in range(len(df_keep)):\n",
    "        '''Define checks for each column'''\n",
    "        check_mz = np.isclose(mz[i], mz[j]+6.02, mz_tol)        \n",
    "        check_rt = np.isclose(rt[i], rt[j], rt_tol)\n",
    "        check_ccs = np.isclose(ccs[i], ccs[j], ccs_tol)\n",
    "        \n",
    "        '''Record results of each check (True/False)'''\n",
    "        checks = [check_mz, check_rt, check_ccs]\n",
    "        \n",
    "        '''If all checks are true, append to list of pairs'''\n",
    "        if all(checks) and i!=j:\n",
    "            idxs.append([i,j])\n",
    "            pairs = np.array(idxs)\n",
    "        else:\n",
    "            pass\n",
    "print(pairs)\n",
    "\n",
    "df_pairs = df_keep.iloc[pairs.flatten()]"
   ]
  },
  {
   "cell_type": "markdown",
   "id": "2df98891",
   "metadata": {},
   "source": [
    "# Adjust mass of each pair"
   ]
  },
  {
   "cell_type": "code",
   "execution_count": 79,
   "id": "43cdc167",
   "metadata": {},
   "outputs": [],
   "source": [
    "# df_adjusted = df_pairs\n",
    "# for i in pairs:\n",
    "#     df_adjusted['m/z'].iloc[i[0]]-=5\n",
    "#     df_adjusted['m/z'].iloc[i[1]]-=11"
   ]
  },
  {
   "cell_type": "code",
   "execution_count": null,
   "id": "2bcd37c9",
   "metadata": {},
   "outputs": [],
   "source": []
  }
 ],
 "metadata": {
  "kernelspec": {
   "display_name": "Python 3.9.12 ('base')",
   "language": "python",
   "name": "python3"
  },
  "language_info": {
   "codemirror_mode": {
    "name": "ipython",
    "version": 3
   },
   "file_extension": ".py",
   "mimetype": "text/x-python",
   "name": "python",
   "nbconvert_exporter": "python",
   "pygments_lexer": "ipython3",
   "version": "3.9.12"
  },
  "vscode": {
   "interpreter": {
    "hash": "69627ec5890e0b54de2feb78db75d268619931803e79abb516238e9970b9c367"
   }
  }
 },
 "nbformat": 4,
 "nbformat_minor": 5
}
